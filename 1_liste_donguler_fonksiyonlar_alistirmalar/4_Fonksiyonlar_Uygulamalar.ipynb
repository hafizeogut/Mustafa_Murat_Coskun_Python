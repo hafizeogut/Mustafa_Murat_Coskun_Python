{
 "cells": [
  {
   "cell_type": "markdown",
   "id": "c2bedb25",
   "metadata": {},
   "source": [
    "### Problem 1\n",
    "1'den 1000'e kadar olan sayılardan mükemmel sayı olanları ekrana yazdırın. Bunun için bir sayının mükemmel olup olmadığını dönen bir tane fonksiyon yazın.\n",
    "\n",
    "Bir sayının bölenlerinin toplamı kendine eşitse bu sayı mükemmel bir sayıdır. Örnek olarak 6 mükemmel bir sayıdır (1 + 2 + 3 = 6)."
   ]
  },
  {
   "cell_type": "code",
   "execution_count": 19,
   "id": "b37cc082",
   "metadata": {},
   "outputs": [
    {
     "name": "stdout",
     "output_type": "stream",
     "text": [
      "Mükemmel sayı: 6\n",
      "Mükemmel sayı: 28\n",
      "Mükemmel sayı: 496\n"
     ]
    }
   ],
   "source": [
    "def mukemmel_sayi(Sayi):\n",
    "    toplam=0\n",
    "    \n",
    "    for i in range(1,Sayi):\n",
    "        if (Sayi%i)==0:\n",
    "            toplam +=i\n",
    "    return toplam==Sayi\n",
    "        \n",
    "for i in range(1,1000):\n",
    "    if (mukemmel_sayi(i)):\n",
    "        print(\"Mükemmel sayı:\",i)\n",
    "        "
   ]
  },
  {
   "cell_type": "code",
   "execution_count": 24,
   "id": "054e3b04",
   "metadata": {},
   "outputs": [
    {
     "name": "stdout",
     "output_type": "stream",
     "text": [
      "Mükkemmmel sayılar: [6, 28, 496]\n"
     ]
    }
   ],
   "source": [
    "def mukemmel_sayi(Sayi):\n",
    "    toplam=0\n",
    "    \n",
    "    \n",
    "    for i in range(1,Sayi):\n",
    "        if (Sayi%i)==0:\n",
    "            toplam +=i\n",
    "    return toplam==Sayi\n",
    "liste=[]        \n",
    "for i in range(1,1000):\n",
    "    if (mukemmel_sayi(i)):\n",
    "        liste.append(i)\n",
    "        \n",
    "print(\"Mükkemmmel sayılar:\",liste)"
   ]
  },
  {
   "cell_type": "markdown",
   "id": "1771d89b",
   "metadata": {},
   "source": [
    "### Problem 2\n",
    "Kullanıcıdan 2 tane sayı alarak bu sayıların en büyük ortak bölenini (EBOB) dönen bir tane fonksiyon yazın.\n",
    "\n",
    "Problem için şu siteye bakabilirsiniz;"
   ]
  },
  {
   "cell_type": "code",
   "execution_count": null,
   "id": "27b3f4ef",
   "metadata": {},
   "outputs": [],
   "source": []
  }
 ],
 "metadata": {
  "kernelspec": {
   "display_name": "Python 3 (ipykernel)",
   "language": "python",
   "name": "python3"
  },
  "language_info": {
   "codemirror_mode": {
    "name": "ipython",
    "version": 3
   },
   "file_extension": ".py",
   "mimetype": "text/x-python",
   "name": "python",
   "nbconvert_exporter": "python",
   "pygments_lexer": "ipython3",
   "version": "3.11.2"
  }
 },
 "nbformat": 4,
 "nbformat_minor": 5
}
