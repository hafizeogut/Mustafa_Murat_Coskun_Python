{
 "cells": [
  {
   "cell_type": "markdown",
   "id": "fc0d9cc5",
   "metadata": {},
   "source": [
    "Problem 1\n",
    "\n",
    "Kullanıcıdan aldığınız bir sayının mükemmel olup olmadığını bulmaya çalışın.\n",
    "\n",
    "Bir sayının kendi hariç bölenlerinin toplamı kendine eşitse bu sayıya \"mükemmel sayı\" denir. Örnek olarak, 6 mükemmel bir sayıdır. (1 + 2 + 3 = 6)"
   ]
  },
  {
   "cell_type": "code",
   "execution_count": 2,
   "id": "dce75bcb",
   "metadata": {},
   "outputs": [
    {
     "name": "stdout",
     "output_type": "stream",
     "text": [
      "Sayınızı giriniz:5\n",
      "1\n",
      "2\n",
      "3\n",
      "4\n"
     ]
    }
   ],
   "source": [
    "toplam=0\n",
    "Sayi=int(input(\"Sayınızı giriniz:\"))\n",
    "for i in range(1,Sayi):\n",
    "    if (Sayi%i)==0:\n",
    "        toplam +=i\n",
    "if toplam==Sayi:\n",
    "    print(\"{} sayısı mükemmel sayıdır\".format(Sayi))\n",
    "    \n",
    "else:\n",
    "    print(\"{} sayısı mükemmel sayı değildir\".format(Sayi))"
   ]
  },
  {
   "cell_type": "code",
   "execution_count": null,
   "id": "ba9b2824",
   "metadata": {},
   "outputs": [],
   "source": []
  }
 ],
 "metadata": {
  "kernelspec": {
   "display_name": "Python 3 (ipykernel)",
   "language": "python",
   "name": "python3"
  },
  "language_info": {
   "codemirror_mode": {
    "name": "ipython",
    "version": 3
   },
   "file_extension": ".py",
   "mimetype": "text/x-python",
   "name": "python",
   "nbconvert_exporter": "python",
   "pygments_lexer": "ipython3",
   "version": "3.11.2"
  },
  "vscode": {
   "interpreter": {
    "hash": "82535a03b4899beafa20fd7484ff717911f94ed0a80f2b5bdb8029e314afae8c"
   }
  }
 },
 "nbformat": 4,
 "nbformat_minor": 5
}
